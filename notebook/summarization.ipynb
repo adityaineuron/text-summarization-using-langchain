{
 "cells": [
  {
   "cell_type": "code",
   "execution_count": 11,
   "metadata": {},
   "outputs": [],
   "source": [
    "import os\n",
    "\n",
    "openai_api_key = os.getenv('OPENAI_API_KEY')"
   ]
  },
  {
   "cell_type": "code",
   "execution_count": 12,
   "metadata": {},
   "outputs": [],
   "source": [
    "# Download poppler from here - https://github.com/oschwartz10612/poppler-windows/releases/\n",
    "\n",
    "\n",
    "from pdf2image import convert_from_path\n",
    "\n",
    "\n",
    "def pdf_to_img_converter(pdf_path: str, output_img_folder_path: str) -> None:\n",
    "\n",
    "    os.makedirs(output_img_folder_path, exist_ok=True)\n",
    "\n",
    "    images = convert_from_path(pdf_path, poppler_path=r\"C:/Program Files (x86)/poppler-23.07.0/Library/bin\")\n",
    "\n",
    "    for i, image in enumerate(images):\n",
    "        image.save(os.path.join(output_img_folder_path, f\"image_{str(i)}.jpg\"))"
   ]
  },
  {
   "cell_type": "code",
   "execution_count": 13,
   "metadata": {},
   "outputs": [],
   "source": [
    "pdf_path = 'D:/text-summarization-using-langchain/chandrayan-3.pdf'\n",
    "output_img_folder_path = 'D:/text-summarization-using-langchain/pdf_images/'\n",
    "\n",
    "pdf_to_img_converter(pdf_path=pdf_path, output_img_folder_path=output_img_folder_path)"
   ]
  },
  {
   "cell_type": "code",
   "execution_count": 14,
   "metadata": {},
   "outputs": [],
   "source": [
    "import pytesseract\n",
    "import cv2\n",
    "\n",
    "\n",
    "pytesseract.pytesseract.tesseract_cmd = 'C:/Program Files/Tesseract-OCR/tesseract.exe'\n",
    "\n",
    "\n",
    "def img_to_txt_converter(output_txt_folder_path: str, img_pdf_folder_path: str) -> None:\n",
    "\n",
    "    os.makedirs(output_txt_folder_path, exist_ok=True)\n",
    "\n",
    "    for i, resume in enumerate(os.listdir(img_pdf_folder_path)):\n",
    "        img = cv2.imread(img_pdf_folder_path + \"/\" + resume)\n",
    "        img = cv2.resize(img, (1000, 1100))\n",
    "        text = pytesseract.image_to_string(img)\n",
    "\n",
    "        fname = os.path.join(output_txt_folder_path, f\"txt_{str(i)}.txt\")\n",
    "        with open(fname, \"w\", encoding='utf-8') as file:\n",
    "            file.write(text)\n",
    "\n",
    "    "
   ]
  },
  {
   "cell_type": "code",
   "execution_count": 15,
   "metadata": {},
   "outputs": [],
   "source": [
    "img_pdf_folder_path = 'D:/text-summarization-using-langchain/pdf_images/'\n",
    "output_txt_folder_path = 'D:/text-summarization-using-langchain/pdf_text/'\n",
    "\n",
    "img_to_txt_converter(output_txt_folder_path=output_txt_folder_path, img_pdf_folder_path=img_pdf_folder_path)"
   ]
  },
  {
   "cell_type": "code",
   "execution_count": null,
   "metadata": {},
   "outputs": [],
   "source": []
  }
 ],
 "metadata": {
  "kernelspec": {
   "display_name": "Python 3",
   "language": "python",
   "name": "python3"
  },
  "language_info": {
   "codemirror_mode": {
    "name": "ipython",
    "version": 3
   },
   "file_extension": ".py",
   "mimetype": "text/x-python",
   "name": "python",
   "nbconvert_exporter": "python",
   "pygments_lexer": "ipython3",
   "version": "3.8.17"
  },
  "orig_nbformat": 4
 },
 "nbformat": 4,
 "nbformat_minor": 2
}
